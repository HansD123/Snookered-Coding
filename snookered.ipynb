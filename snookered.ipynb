{
 "cells": [
  {
   "cell_type": "code",
   "execution_count": 1,
   "id": "403d0b76-ea2f-41fd-b447-0ab0b874336d",
   "metadata": {},
   "outputs": [],
   "source": [
    "import numpy as np"
   ]
  },
  {
   "cell_type": "code",
   "execution_count": null,
   "id": "11dea2fc-ec07-4b37-9a6b-c3bb7dd199bd",
   "metadata": {},
   "outputs": [],
   "source": [
    "green = np.array(\n",
    "2.3744 \n",
    "\n",
    "30.69 \n",
    "\n",
    "2.3390 \n",
    "\n",
    "28.06 \n",
    "\n",
    "2.2829 \n",
    "\n",
    "23.95 \n",
    "\n",
    "2.2364 \n",
    "\n",
    "20.44 \n",
    "\n",
    "2.1931 \n",
    "\n",
    "17.49 \n",
    "\n",
    "2.1486 \n",
    "\n",
    "14.40 \n",
    "\n",
    "2.1010 \n",
    "\n",
    "11.27 \n",
    "\n",
    "1.9285 \n",
    "\n",
    "2.6718 \n",
    "\n",
    "1.9122 \n",
    "\n",
    "2.1142 \n",
    "\n",
    "1.8877 \n",
    "\n",
    "1.4588 \n",
    "\n",
    "1.8642 \n",
    "\n",
    "1.0482 \n",
    "\n",
    ")"
   ]
  }
 ],
 "metadata": {
  "kernelspec": {
   "display_name": "Python 3",
   "language": "python",
   "name": "python3"
  },
  "language_info": {
   "codemirror_mode": {
    "name": "ipython",
    "version": 3
   },
   "file_extension": ".py",
   "mimetype": "text/x-python",
   "name": "python",
   "nbconvert_exporter": "python",
   "pygments_lexer": "ipython3",
   "version": "3.8.8"
  }
 },
 "nbformat": 4,
 "nbformat_minor": 5
}
